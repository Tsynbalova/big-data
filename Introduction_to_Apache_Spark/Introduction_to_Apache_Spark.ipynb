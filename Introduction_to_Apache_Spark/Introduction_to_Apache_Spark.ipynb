{
  "cells": [
    {
      "cell_type": "code",
      "source": [
        "!pip3 install pyspark==3.0.0"
      ],
      "metadata": {
        "colab": {
          "base_uri": "https://localhost:8080/"
        },
        "id": "MdUctp3calOh",
        "outputId": "ecb8c0c0-f567-4f5b-9a9c-1b00a5cf609d"
      },
      "id": "MdUctp3calOh",
      "execution_count": null,
      "outputs": [
        {
          "output_type": "stream",
          "name": "stdout",
          "text": [
            "Requirement already satisfied: pyspark==3.0.0 in /usr/local/lib/python3.10/dist-packages (3.0.0)\n",
            "Requirement already satisfied: py4j==0.10.9 in /usr/local/lib/python3.10/dist-packages (from pyspark==3.0.0) (0.10.9)\n"
          ]
        }
      ]
    },
    {
      "cell_type": "code",
      "execution_count": null,
      "id": "5d881463-22b9-4cb2-856c-653ef484729b",
      "metadata": {
        "id": "5d881463-22b9-4cb2-856c-653ef484729b"
      },
      "outputs": [],
      "source": [
        "from pyspark import SparkContext, SparkConf\n",
        "from pyspark.sql import SparkSession\n",
        "import pyspark.sql as sql\n",
        "from pyspark.sql.functions import col"
      ]
    },
    {
      "cell_type": "code",
      "execution_count": null,
      "id": "7be967db-1995-4d25-b6a8-66b2c1667b3e",
      "metadata": {
        "colab": {
          "base_uri": "https://localhost:8080/",
          "height": 196
        },
        "id": "7be967db-1995-4d25-b6a8-66b2c1667b3e",
        "outputId": "2b4f1a52-19f4-49b6-9696-668c77d89951"
      },
      "outputs": [
        {
          "output_type": "execute_result",
          "data": {
            "text/plain": [
              "<SparkContext master=local[*] appName=pyspark-shell>"
            ],
            "text/html": [
              "\n",
              "        <div>\n",
              "            <p><b>SparkContext</b></p>\n",
              "\n",
              "            <p><a href=\"http://84b64041a602:4040\">Spark UI</a></p>\n",
              "\n",
              "            <dl>\n",
              "              <dt>Version</dt>\n",
              "                <dd><code>v3.0.0</code></dd>\n",
              "              <dt>Master</dt>\n",
              "                <dd><code>local[*]</code></dd>\n",
              "              <dt>AppName</dt>\n",
              "                <dd><code>pyspark-shell</code></dd>\n",
              "            </dl>\n",
              "        </div>\n",
              "        "
            ]
          },
          "metadata": {},
          "execution_count": 3
        }
      ],
      "source": [
        "try:\n",
        "    sc = SparkContext.getOrCreate()\n",
        "    sc.setLogLevel(\"ERROR\")\n",
        "except:\n",
        "    conf = SparkConf().setAppName(\"Lab1\").setMaster('local[1]')\n",
        "    sc = SparkContext(conf=conf)\n",
        "    sc.setLogLevel(\"ERROR\")\n",
        "spark = SparkSession(sc)\n",
        "\n",
        "sc"
      ]
    },
    {
      "cell_type": "code",
      "source": [
        "import requests\n",
        "\n",
        "with open(\"stations.csv\", \"wb\") as f:\n",
        "    request = requests.get(\"https://git.ai.ssau.ru/tk/big_data/raw/branch/bachelor/data/stations.csv\")\n",
        "    f.write(request.content)\n",
        "\n",
        "with open(\"trips.csv\", \"wb\") as f:\n",
        "    request = requests.get(\"https://git.ai.ssau.ru/tk/big_data/raw/branch/bachelor/data/trips.csv\")\n",
        "    f.write(request.content)"
      ],
      "metadata": {
        "id": "EBBQZjgqeOOs"
      },
      "id": "EBBQZjgqeOOs",
      "execution_count": null,
      "outputs": []
    },
    {
      "cell_type": "code",
      "execution_count": null,
      "id": "092e2f07-74cd-422d-a1e4-9f7d203ce939",
      "metadata": {
        "colab": {
          "base_uri": "https://localhost:8080/"
        },
        "id": "092e2f07-74cd-422d-a1e4-9f7d203ce939",
        "outputId": "03182990-79c0-44b1-8319-028bcd02925a"
      },
      "outputs": [
        {
          "output_type": "execute_result",
          "data": {
            "text/plain": [
              "DataFrame[id: int, duration: int, start_date: timestamp, start_station_name: string, start_station_id: int, end_date: timestamp, end_station_name: string, end_station_id: int, bike_id: int, subscription_type: string, zip_code: string]"
            ]
          },
          "metadata": {},
          "execution_count": 5
        }
      ],
      "source": [
        "tripData = spark.read\\\n",
        ".option(\"header\", True)\\\n",
        ".option(\"inferSchema\", True)\\\n",
        ".option(\"timestampFormat\", 'M/d/y H:m')\\\n",
        ".csv(\"trips.csv\")\n",
        "\n",
        "tripData\n"
      ]
    },
    {
      "cell_type": "code",
      "execution_count": null,
      "id": "016a7b75-db1a-4043-9d2e-892c95f61fc4",
      "metadata": {
        "colab": {
          "base_uri": "https://localhost:8080/"
        },
        "id": "016a7b75-db1a-4043-9d2e-892c95f61fc4",
        "outputId": "86fdece0-c623-43e3-f9cc-7db4beeb589e"
      },
      "outputs": [
        {
          "output_type": "execute_result",
          "data": {
            "text/plain": [
              "DataFrame[id: int, name: string, lat: double, long: double, dock_count: int, city: string, installation_date: timestamp]"
            ]
          },
          "metadata": {},
          "execution_count": 6
        }
      ],
      "source": [
        "stationData = spark.read\\\n",
        ".option(\"header\", True)\\\n",
        ".option(\"inferSchema\", True)\\\n",
        ".option(\"timestampFormat\", 'M/d/y')\\\n",
        ".csv(\"stations.csv\")\n",
        "\n",
        "stationData"
      ]
    },
    {
      "cell_type": "markdown",
      "id": "052596ee-de0f-4587-b9e2-229d64b9bbc7",
      "metadata": {
        "id": "052596ee-de0f-4587-b9e2-229d64b9bbc7"
      },
      "source": [
        "Задание №1: Найти велосипед с максимальным временем пробега"
      ]
    },
    {
      "cell_type": "code",
      "execution_count": null,
      "id": "b1b52b35-44a7-4fb8-9acf-e2933d1250ea",
      "metadata": {
        "colab": {
          "base_uri": "https://localhost:8080/"
        },
        "id": "b1b52b35-44a7-4fb8-9acf-e2933d1250ea",
        "outputId": "666f7883-3166-4f53-aa80-40185677c654"
      },
      "outputs": [
        {
          "output_type": "stream",
          "name": "stdout",
          "text": [
            "Результат:\n",
            "+-------+--------+\n",
            "|bike_id|     dur|\n",
            "+-------+--------+\n",
            "|    535|18611693|\n",
            "+-------+--------+\n",
            "\n"
          ]
        }
      ],
      "source": [
        "from pyspark.sql import functions as F\n",
        "\n",
        "result = tripData.groupBy(\"bike_id\").agg(F.sum(\"duration\").alias(\"dur\")) \\\n",
        "                 .orderBy(F.desc(\"dur\")).limit(1)\n",
        "\n",
        "\n",
        "print(\"Результат:\")\n",
        "result.show()"
      ]
    },
    {
      "cell_type": "markdown",
      "id": "e887a815-86ca-464c-bbda-bb72a76adff1",
      "metadata": {
        "id": "e887a815-86ca-464c-bbda-bb72a76adff1"
      },
      "source": [
        "Задание 2: Найти наибольшее геодезическое расстояние между станциями."
      ]
    },
    {
      "cell_type": "code",
      "execution_count": null,
      "id": "27bf7877-ae96-48ee-93dc-e87c79effa18",
      "metadata": {
        "colab": {
          "base_uri": "https://localhost:8080/"
        },
        "id": "27bf7877-ae96-48ee-93dc-e87c79effa18",
        "outputId": "4a02b79a-7eb4-49d8-b3af-4e9ea329145d"
      },
      "outputs": [
        {
          "output_type": "stream",
          "name": "stdout",
          "text": [
            "Requirement already satisfied: geopy in /usr/local/lib/python3.10/dist-packages (2.3.0)\n",
            "Requirement already satisfied: geographiclib<3,>=1.52 in /usr/local/lib/python3.10/dist-packages (from geopy) (2.0)\n"
          ]
        }
      ],
      "source": [
        "!pip install geopy"
      ]
    },
    {
      "cell_type": "code",
      "execution_count": null,
      "id": "ccc734b9-10c5-48da-8d62-06b6bb1449ac",
      "metadata": {
        "colab": {
          "base_uri": "https://localhost:8080/"
        },
        "id": "ccc734b9-10c5-48da-8d62-06b6bb1449ac",
        "outputId": "cfc18651-1e1e-4b5f-de31-8ebd67854b3d"
      },
      "outputs": [
        {
          "output_type": "stream",
          "name": "stdout",
          "text": [
            "Наибольшее геодезическое расстояние между станциями 24 и 36: 9.669526104642657 км\n"
          ]
        }
      ],
      "source": [
        "from math import radians, cos, sin, asin, sqrt\n",
        "from geopy.distance import geodesic\n",
        "\n",
        "stations_coordinates = stationData.select(\"id\", \"lat\", \"long\").withColumnRenamed(\"lat\", \"lat1\").withColumnRenamed(\"long\", \"long1\")\n",
        "stations_coordinates.createOrReplaceTempView(\"stations_coordinates\")\n",
        "\n",
        "station_combinations = spark.sql(\"\"\"\n",
        "    SELECT a.id as station1, b.id as station2, a.lat1, a.long1, b.lat1 as lat2, b.long1 as long2\n",
        "    FROM stations_coordinates a\n",
        "    CROSS JOIN stations_coordinates b\n",
        "    WHERE a.id < b.id\n",
        "\"\"\")\n",
        "\n",
        "\n",
        "def calculate_distance(lat1, lon1, lat2, lon2):\n",
        "    coord1 = (lat1, lon1)\n",
        "    coord2 = (lat2, lon2)\n",
        "    return geodesic(coord1, coord2).kilometers\n",
        "\n",
        "calculate_distance_udf = spark.udf.register(\"calculate_distance\", calculate_distance)\n",
        "\n",
        "result = station_combinations.withColumn(\"distance\", calculate_distance_udf(\"lat1\", \"long1\", \"lat2\", \"long2\"))\n",
        "\n",
        "max_distance = result.select(\"station1\", \"station2\", \"distance\").orderBy(col(\"distance\").desc()).first()\n",
        "\n",
        "print(f\"Наибольшее геодезическое расстояние между станциями {max_distance['station1']} и {max_distance['station2']}: {max_distance['distance']} км\")"
      ]
    },
    {
      "cell_type": "code",
      "execution_count": null,
      "id": "c906d29e-f499-4edf-838b-e84d42adf42a",
      "metadata": {
        "colab": {
          "base_uri": "https://localhost:8080/"
        },
        "id": "c906d29e-f499-4edf-838b-e84d42adf42a",
        "outputId": "c75e9bf0-6faf-4f84-a269-94fda850c0ab"
      },
      "outputs": [
        {
          "output_type": "stream",
          "name": "stdout",
          "text": [
            "+--------------------+--------------------+------------------+\n",
            "|                name|    end_station_name|          distance|\n",
            "+--------------------+--------------------+------------------+\n",
            "|       2nd at Folsom|South Van Ness at...|2.3150845505323323|\n",
            "|South Van Ness at...|       2nd at Folsom|2.3150845505323323|\n",
            "+--------------------+--------------------+------------------+\n",
            "\n"
          ]
        }
      ],
      "source": [
        "from pyspark.sql import SparkSession\n",
        "from pyspark.sql.functions import col\n",
        "from pyspark.sql import functions as F\n",
        "from math import radians, cos, sin, asin, sqrt\n",
        "\n",
        "max_duration_trip = tripData.orderBy(col(\"duration\").desc()).limit(1).select(\"start_station_name\", \"end_station_name\").first()\n",
        "\n",
        "filtered_joined_station = stationData \\\n",
        "    .filter((col(\"name\") == max_duration_trip.start_station_name) |\n",
        "            (col(\"name\") == max_duration_trip.end_station_name))\n",
        "\n",
        "result_3 = filtered_joined_station.crossJoin(\n",
        "    filtered_joined_station.select(col(\"name\").alias(\"end_station_name\"), col(\"lat\").alias(\"end_lat\"), col(\"long\").alias(\"end_long\"))\n",
        ") \\\n",
        ".withColumn(\"distance\", calculate_distance_udf(col(\"lat\"), col(\"long\"), col(\"end_lat\"), col(\"end_long\"))) \\\n",
        ".select(\"name\", \"end_station_name\", \"distance\") \\\n",
        ".filter((col(\"name\") != col(\"end_station_name\")) & (col(\"distance\") != 0))\n",
        "\n",
        "result_3.show()"
      ]
    },
    {
      "cell_type": "markdown",
      "id": "84bc4ea1-5d64-480f-8c2b-1fbb5e40e0cf",
      "metadata": {
        "id": "84bc4ea1-5d64-480f-8c2b-1fbb5e40e0cf"
      },
      "source": [
        "Задание 4. Найти количество велосипедов в системе."
      ]
    },
    {
      "cell_type": "code",
      "execution_count": null,
      "id": "9f9b7f50-057f-40e9-ba6c-5eaf5604e5b0",
      "metadata": {
        "colab": {
          "base_uri": "https://localhost:8080/"
        },
        "id": "9f9b7f50-057f-40e9-ba6c-5eaf5604e5b0",
        "outputId": "7cc99541-8c37-4f31-d731-92f134db655e"
      },
      "outputs": [
        {
          "output_type": "stream",
          "name": "stdout",
          "text": [
            "Количество велосипедов в системе: 700\n"
          ]
        }
      ],
      "source": [
        "bike_count = tripData.select(\"bike_id\").distinct().count()\n",
        "\n",
        "print(f\"Количество велосипедов в системе: {bike_count}\")"
      ]
    },
    {
      "cell_type": "markdown",
      "id": "332fa12f-3928-4fcf-b761-f769d87f3c64",
      "metadata": {
        "id": "332fa12f-3928-4fcf-b761-f769d87f3c64"
      },
      "source": [
        "Задание 5. Найти пользователей потративших на поездки более 3 часов."
      ]
    },
    {
      "cell_type": "code",
      "execution_count": null,
      "id": "0d5a85c6-d85f-4ed1-bbb6-9ec2ecf9478a",
      "metadata": {
        "colab": {
          "base_uri": "https://localhost:8080/"
        },
        "id": "0d5a85c6-d85f-4ed1-bbb6-9ec2ecf9478a",
        "outputId": "51601c90-87d6-4aa6-f93a-dc19c14cffc4"
      },
      "outputs": [
        {
          "output_type": "stream",
          "name": "stdout",
          "text": [
            "Результат:\n",
            "+------+------------+\n",
            "|    id|sum_duration|\n",
            "+------+------------+\n",
            "|  6654|       17751|\n",
            "| 22097|       21686|\n",
            "| 22223|       15619|\n",
            "| 30654|       13479|\n",
            "| 34759|       17959|\n",
            "| 43688|       22504|\n",
            "| 88666|       21964|\n",
            "| 88674|       13726|\n",
            "|105536|       19854|\n",
            "|143153|       20649|\n",
            "|146988|       44084|\n",
            "|189310|       21785|\n",
            "|431881|       28377|\n",
            "|431018|       12301|\n",
            "|427387|       12612|\n",
            "|418759|       15526|\n",
            "|418461|       15103|\n",
            "|410754|       16743|\n",
            "|386707|       14313|\n",
            "|305619|       12412|\n",
            "+------+------------+\n",
            "only showing top 20 rows\n",
            "\n"
          ]
        }
      ],
      "source": [
        "grouped_data = tripData.groupBy(\"id\").agg({\"duration\": \"sum\"}).withColumnRenamed(\"sum(duration)\", \"sum_duration\")\n",
        "\n",
        "filtered_data = grouped_data.filter(col(\"sum_duration\") > 10800)\n",
        "\n",
        "print(\"Результат:\")\n",
        "filtered_data.show()\n"
      ]
    },
    {
      "cell_type": "code",
      "execution_count": null,
      "id": "388578e9-f4e4-4b5e-bdd9-9189c2421090",
      "metadata": {
        "id": "388578e9-f4e4-4b5e-bdd9-9189c2421090"
      },
      "outputs": [],
      "source": [
        "sc.stop()"
      ]
    }
  ],
  "metadata": {
    "kernelspec": {
      "display_name": "Python 3",
      "language": "python",
      "name": "python3"
    },
    "language_info": {
      "codemirror_mode": {
        "name": "ipython",
        "version": 3
      },
      "file_extension": ".py",
      "mimetype": "text/x-python",
      "name": "python",
      "nbconvert_exporter": "python",
      "pygments_lexer": "ipython3",
      "version": "3.9.5"
    },
    "colab": {
      "provenance": []
    }
  },
  "nbformat": 4,
  "nbformat_minor": 5
}